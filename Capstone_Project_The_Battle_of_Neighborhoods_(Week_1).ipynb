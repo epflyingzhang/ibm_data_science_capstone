{
  "nbformat": 4,
  "nbformat_minor": 0,
  "metadata": {
    "colab": {
      "name": "Capstone Project - The Battle of Neighborhoods (Week 1).ipynb",
      "provenance": [],
      "authorship_tag": "ABX9TyOylKZeRyYpGMrucZxMhNkU",
      "include_colab_link": true
    },
    "kernelspec": {
      "name": "python3",
      "display_name": "Python 3"
    }
  },
  "cells": [
    {
      "cell_type": "markdown",
      "metadata": {
        "id": "view-in-github",
        "colab_type": "text"
      },
      "source": [
        "<a href=\"https://colab.research.google.com/github/epflyingzhang/ibm_data_science_capstone/blob/master/Capstone_Project_The_Battle_of_Neighborhoods_(Week_1).ipynb\" target=\"_parent\"><img src=\"https://colab.research.google.com/assets/colab-badge.svg\" alt=\"Open In Colab\"/></a>"
      ]
    },
    {
      "cell_type": "markdown",
      "metadata": {
        "id": "Ls6cvvaJNeRs",
        "colab_type": "text"
      },
      "source": [
        "# Capstone Project - A Study of Restaurants in Zurich"
      ]
    },
    {
      "cell_type": "markdown",
      "metadata": {
        "id": "4SypAQAWOGKj",
        "colab_type": "text"
      },
      "source": [
        "In the project, we analyze the landscape of restaurants in Zurich using the location data from Foursquare and explore insights that can be helpful for residents, tourists and business owners to make decisions. "
      ]
    },
    {
      "cell_type": "markdown",
      "metadata": {
        "id": "DATB8hhpPCen",
        "colab_type": "text"
      },
      "source": [
        "## Introduction and Business Problem"
      ]
    },
    {
      "cell_type": "markdown",
      "metadata": {
        "id": "X1rykozwPP5r",
        "colab_type": "text"
      },
      "source": [
        "Zurich is the biggest city in Switzerland with a population of 0.4 million in the municipality area. Despite its small population, Zurich is among the world's largest financial centers. Zurich is also one of cities with the highest quality of life according to various surveys. Over 30% of population in Zurich do not hold Swiss citizenship, making it one of the most international cities in the world.  \n",
        "\n",
        "A quick search on Yelp.ch reveals over 1000 restaurants of all kinds in the city of Zurich. If I am new to the city, I might be interested to know:  \n",
        "\n",
        "1. Which neighborhood has the highest number of restaurants? \n",
        "2. How are different types of restaurants distributed in different neighborhoods?  \n",
        "3. How are the resturants distributed in terms of price and quality? \n",
        "4. In many cities in the world, the closer to tourist attractions a restaurant is, the more expensive it is and the worse quality it has. Is this also the case in Zurich? Should tourists avoid restaurants near tourist attractions?"
      ]
    },
    {
      "cell_type": "markdown",
      "metadata": {
        "id": "eCL6SSZSP2-h",
        "colab_type": "text"
      },
      "source": [
        "## Data\n",
        "In order to answer the questions above, we need the following data:\n",
        "\n",
        "- The list of restaurants in Zurich with attributes including coordinates, type, price_level and rating.   \n",
        "We can obtain this data from Foursquare or Google Maps API. \n",
        "- The geojson file of Zurich city to visualize neighboorhoods.  \n",
        "We can obtain this dataset from the [Geodata Portal of Zurich](https://www.stadt-zuerich.ch/geodaten/download/Statistische_Quartiere).\n",
        "- A list of tourist attractions in Zurich with coordinates.   \n",
        "We can obtain this dataset from [Open Data with Zurich Tourism](https://zt.zuerich.com/en/open-data)."
      ]
    },
    {
      "cell_type": "markdown",
      "metadata": {
        "id": "VHSbeT5NCjW0",
        "colab_type": "text"
      },
      "source": [
        "*Week 2 TBA*"
      ]
    },
    {
      "cell_type": "code",
      "metadata": {
        "id": "KOu81zouCmmy",
        "colab_type": "code",
        "colab": {}
      },
      "source": [
        ""
      ],
      "execution_count": 0,
      "outputs": []
    }
  ]
}