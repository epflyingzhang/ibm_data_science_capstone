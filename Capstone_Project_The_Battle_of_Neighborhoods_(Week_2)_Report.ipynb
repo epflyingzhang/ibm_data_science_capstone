{
  "nbformat": 4,
  "nbformat_minor": 0,
  "metadata": {
    "colab": {
      "name": "Capstone Project - The Battle of Neighborhoods (Week 2) - Report.ipynb",
      "provenance": [],
      "toc_visible": true,
      "authorship_tag": "ABX9TyMcF6iPozOzzmQ8t1NKlpS9",
      "include_colab_link": true
    },
    "kernelspec": {
      "name": "python3",
      "display_name": "Python 3"
    }
  },
  "cells": [
    {
      "cell_type": "markdown",
      "metadata": {
        "id": "view-in-github",
        "colab_type": "text"
      },
      "source": [
        "<a href=\"https://colab.research.google.com/github/epflyingzhang/ibm_data_science_capstone/blob/master/Capstone_Project_The_Battle_of_Neighborhoods_(Week_2)_Report.ipynb\" target=\"_parent\"><img src=\"https://colab.research.google.com/assets/colab-badge.svg\" alt=\"Open In Colab\"/></a>"
      ]
    },
    {
      "cell_type": "markdown",
      "metadata": {
        "id": "Ls6cvvaJNeRs",
        "colab_type": "text"
      },
      "source": [
        "# Capstone Project Report - A Study of Neighborhoods in Zurich"
      ]
    },
    {
      "cell_type": "markdown",
      "metadata": {
        "id": "4SypAQAWOGKj",
        "colab_type": "text"
      },
      "source": [
        "In this project, we analyze the neighborhoods in Zurich using  location data from Foursquare and explore insights that can be helpful for residents, tourists and city administrators. "
      ]
    },
    {
      "cell_type": "markdown",
      "metadata": {
        "id": "DATB8hhpPCen",
        "colab_type": "text"
      },
      "source": [
        "## Introduction and Business Problem"
      ]
    },
    {
      "cell_type": "markdown",
      "metadata": {
        "id": "X1rykozwPP5r",
        "colab_type": "text"
      },
      "source": [
        "Zurich is the biggest city in Switzerland with a population of 0.4 million in the municipality area. Despite its small population, Zurich is among the world's largest financial centers. Zurich is also one of cities with the highest quality of life according to various surveys. Over 30% of population in Zurich do not hold Swiss citizenship, making it one of the most international cities in the world.  \n",
        "\n",
        "The city of Zurich is split into 34 neighborhoods (German: \"Quartier\") for administrative purposes. What characteristics do different neighborhoods have? Which neighborhoods should I go to if I want to hang out in bars or clubs? Which neighborhoods are similar, and in what way? The answers to these questions could help tourists decide how to explore the city; residents choose a neighborhood to live; and city planners make decisions.  "
      ]
    },
    {
      "cell_type": "markdown",
      "metadata": {
        "id": "J_jFrJX_ve5F",
        "colab_type": "text"
      },
      "source": [
        "## Methodology"
      ]
    },
    {
      "cell_type": "markdown",
      "metadata": {
        "id": "onxOVwwgvv93",
        "colab_type": "text"
      },
      "source": [
        "We approach these problems in the following way. First of all, we collect data that characterize neighborhoods. Then, we use exploratory analysis to gain some initial insights from the data. After that, we make cluster analysis on neighborhoods. Finally, we discuss our findings and propose next steps for this analysis.  "
      ]
    },
    {
      "cell_type": "markdown",
      "metadata": {
        "id": "eCL6SSZSP2-h",
        "colab_type": "text"
      },
      "source": [
        "### Data\n",
        "In order to answer the questions above, we need the following data:\n",
        "\n",
        "- Geospatial data of neighborhoods in Zurich. \n",
        "We can obtain this dataset (GEOJSON) from the [Geodata Portal of Zurich](https://www.stadt-zuerich.ch/geodaten/download/Statistische_Quartiere)\n",
        "\n",
        "- Venue data from Foursquare by category (e.g. restaurants, bars & clubs, cultural spots, offices, train stations).   \n",
        "There is limitation of 50 venues per API all. In order to retrieve all venues in the city of Zurich, we deployed a recursive searching algorithm to avoid breaching the number of API call limit on Foursquare. \n",
        "\n",
        "- [Open Data Portal of Zurich Tourism](https://zt.zuerich.com/en/open-data) also provide location data for venues of different categories.   \n",
        "We compared Zurich Tourism data with Foursquare data and decided not to use only Foursquare data due to the fact that Foursquare data contain more venues and categories. "
      ]
    },
    {
      "cell_type": "markdown",
      "metadata": {
        "id": "dAaBzef-1FTJ",
        "colab_type": "text"
      },
      "source": [
        "# Results"
      ]
    },
    {
      "cell_type": "markdown",
      "metadata": {
        "id": "YcxVJ69OzC3d",
        "colab_type": "text"
      },
      "source": [
        "## Exploratory Analysis\n",
        "\n",
        "We started with visualizing the neighborhoods on a map.  \n",
        "<img src=\"https://raw.githubusercontent.com/epflyingzhang/ibm_data_science_capstone/master/results/pic2.png\" alt=\"pic\"\n",
        "\ttitle=\"zurich with venues\" width=\"300\"  />\n",
        "\n",
        "After obtaining the list of venues and their categories and geo-coordinates, we map them into respective neighborhoods. We further re-classified the venues into 7 categories: restaurants, offices, nightlife (bar and clubs), arts and entertainments, cafés, tram and bus stops, and markets. \n",
        "\n",
        "To visualize the data, we plotted all venues in the map using Folium package and added a choropleth layer based on the number of venues per neighborhood. \n",
        "\n",
        "<img src=\"https://raw.githubusercontent.com/epflyingzhang/ibm_data_science_capstone/master/results/pic1.png\" alt=\"pic\"\n",
        "\ttitle=\"zurich with venues\" width=\"300\"  />\n",
        "\n",
        "We can see that the venues are most densely located in neighborhoods west to the city center, such as Langstrasse, City. Clusters also appear in neighborhoods such as Wiedikon, Altstetten and Oelikon, where train stations exist.\n"
      ]
    },
    {
      "cell_type": "markdown",
      "metadata": {
        "id": "0Hcd1GrbvjO2",
        "colab_type": "text"
      },
      "source": [
        "We rearranged the data and used number of venues per group as feature for each neighborhood. We ended up with a 34*7 data frame.\n",
        "\n",
        "<img src='https://raw.githubusercontent.com/epflyingzhang/ibm_data_science_capstone/master/results/df.png' width=\"500\" />"
      ]
    },
    {
      "cell_type": "markdown",
      "metadata": {
        "id": "uw4f-JF03KHj",
        "colab_type": "text"
      },
      "source": [
        "Taking a closer look at restaurant gives us the distribution of restaurants per neighborhood.\n",
        "\n",
        "<img src='https://raw.githubusercontent.com/epflyingzhang/ibm_data_science_capstone/master/results/bar_chart.png' width=\"500\" />"
      ]
    },
    {
      "cell_type": "markdown",
      "metadata": {
        "id": "cI3fIYetDC_P",
        "colab_type": "text"
      },
      "source": [
        ""
      ]
    },
    {
      "cell_type": "markdown",
      "metadata": {
        "id": "NL-2JuyWxekU",
        "colab_type": "text"
      },
      "source": [
        "Box plot reveals outliers of neighborhoods with respect to each feature. \n",
        "\n",
        "<img src='https://raw.githubusercontent.com/epflyingzhang/ibm_data_science_capstone/master/results/box.png' width=\"500\" />\n",
        "\n",
        "\n",
        "We can see that:\n",
        "\n",
        "- Langstrasse is the outlier in the restaurant and nightlife category\n",
        "- City is the outlier in the cafe category\n",
        "- Escher Wyss is the outlier in the art_entertainment category"
      ]
    },
    {
      "cell_type": "markdown",
      "metadata": {
        "id": "4DuvcN1y3tJh",
        "colab_type": "text"
      },
      "source": [
        "To investigate the correlation between different venue categories, we plotted the scatter plot matrix and correlation matrix.\n",
        "\n",
        "<img src='https://raw.githubusercontent.com/epflyingzhang/ibm_data_science_capstone/master/results/scatter.png' width=\"1000\" />\n",
        "\n",
        "<img src='https://raw.githubusercontent.com/epflyingzhang/ibm_data_science_capstone/master/results/heat.png' width=\"500\" />"
      ]
    },
    {
      "cell_type": "markdown",
      "metadata": {
        "id": "BJoVnQ_c4azB",
        "colab_type": "text"
      },
      "source": [
        "From the scatter plot and correlation matrix, we can see high correlation between nightlife, restaurant and cafe; as well as between office and arts_entertainment. Correlations between market and other categories are low."
      ]
    },
    {
      "cell_type": "markdown",
      "metadata": {
        "id": "dnX8eJqhz9o2",
        "colab_type": "text"
      },
      "source": [
        "## Cluster Analysis\n",
        "\n",
        "First of all, we standardized the data and calculated Z-Score for each feature. \n",
        "\n",
        "Then, we used Principal Component Analysis (PCA) to reduce dimensions and visualize the first and second principal components to see if any clusters are formed.\n",
        "\n",
        "<img src=\"https://raw.githubusercontent.com/epflyingzhang/ibm_data_science_capstone/master/results/pca.png\" width=\"500\" />\n",
        "\n",
        "<img src=\"https://raw.githubusercontent.com/epflyingzhang/ibm_data_science_capstone/master/results/pca2.png\" width=\"500\" />"
      ]
    },
    {
      "cell_type": "markdown",
      "metadata": {
        "id": "K-WBsFI-5fo3",
        "colab_type": "text"
      },
      "source": [
        "We can see that the first three principal components explained c.a. 90% of the variance. In addition, we can see vaguely three clusters in the 2D plot: first one on the left, second upper right, and third bottom right. "
      ]
    },
    {
      "cell_type": "markdown",
      "metadata": {
        "id": "xp5Osbgi5sj9",
        "colab_type": "text"
      },
      "source": [
        "Finally, we use K-means algorithm to do the clustering. In order to determine the number of clusters (k), we plot the inertia from the K-means results against k:  \n",
        "\n",
        "<img src=\"https://raw.githubusercontent.com/epflyingzhang/ibm_data_science_capstone/master/results/k-means.png\" width=\"500\" />\n",
        "\n",
        "We can see the elbow point around between k=3-7. We took k=5 for our clustering to avoid too many clusters. Clustering results are shown below.\n",
        "\n",
        "<img src=\"https://raw.githubusercontent.com/epflyingzhang/ibm_data_science_capstone/master/results/cluster0.png\" alt=\"Kitten\"\n",
        "\ttitle=\"cluster\" width=\"1000\" />\n",
        "\n",
        "<img src=\"https://raw.githubusercontent.com/epflyingzhang/ibm_data_science_capstone/master/results/cluster1.png\" alt=\"Kitten\"\n",
        "\ttitle=\"cluster\" width=\"600\" />\n",
        "\n",
        "<img src=\"https://raw.githubusercontent.com/epflyingzhang/ibm_data_science_capstone/master/results/cluster2.png\" alt=\"Kitten\"\n",
        "\ttitle=\"cluster\" width=\"600\" />\n"
      ]
    },
    {
      "cell_type": "markdown",
      "metadata": {
        "id": "ieoBFrOO7CW6",
        "colab_type": "text"
      },
      "source": [
        "The 34 neighborhoods are clustered into 5 groups. \n",
        "- Cluster 3 (red) consists of only one neighborhood: Langstrasse. No surprise as this is the well-know district for food, drinks and clubs.   \n",
        "- Cluster 0 (light yellow) consists of 8 neighborhoods that are located around the city center. They are featured by high density of art and entertainment venues.\n",
        "- Cluster 4 (dard red) consists of 5 neighborhoods that are a bit away from the center but with rich facilities due to their proximity to respective train stations.\n",
        "- Cluster 2 (orange) consists of 6 neighborhoods that are a bit further away from the city center. They are in fact mostly relatively quite residential areas but still with public transportation to connect to other parts of the city.\n",
        "- Cluster 1 (yellow) consists of the rest of 14 neighborhoods that are less populated. They are mostly on the outskirt of the city with limited public transportation options. "
      ]
    },
    {
      "cell_type": "markdown",
      "metadata": {
        "colab_type": "text",
        "id": "nSBLBjten9yh"
      },
      "source": [
        "# Discussion"
      ]
    },
    {
      "cell_type": "markdown",
      "metadata": {
        "id": "qFwouwqooBqZ",
        "colab_type": "text"
      },
      "source": [
        "After exploring the location data, we gained a lot more insights about the city of Zurich. The city of Zurich consists of 34 neighborhoods. By looking at the amount of restaurants, cafés, arts and entertainment venues, tram and bus stops, bar and clubs, markets, and offices in each area, we understood the characteristics of different neighborhoods. Some neighborhoods offer more options for dining and drinking, some for museems and art galleries, and some are more concentrated with offices. Cluster analysis helped us group seemly geographically disconnected neighborhoods into different clusters. The culstering results give us five groups of neighborhoods based on similarity.  \n",
        "\n",
        "A tourist can use the results of this analysis to plan his or her city visit. A residence who is about to move home can use the clustering results to help determine potential neighborhoods to consider. City planners and administrators can consider applying initiatives that are proven successful in one neighborhood to other neighborhoods in the same cluster. \n",
        "\n",
        "However, we need to acknowledge limitations in this study:\n",
        "- The choice of venue categories was limited to the accuracy and completeness of Foursquare data in Zurich. Crowd-sourced data might have smaller coverage for certain categories (e.g. offices) compared to others (e.g. restaurants). Using Google Map data might solve this issue.   \n",
        "\n",
        "- We used absulote number of venues as features in this analysis. Venue density with regards to area size or population of neighborhoods might describe better the 'feeling' of a district. \n",
        "\n",
        "- We limited our study to the official 34 administrative neighborhoods for simplicity. In fact, the analysis could be easily extended to much smaller grids or or blocks. "
      ]
    },
    {
      "cell_type": "markdown",
      "metadata": {
        "id": "D7Va-oojL2Rz",
        "colab_type": "text"
      },
      "source": [
        "# Conclusion"
      ]
    },
    {
      "cell_type": "markdown",
      "metadata": {
        "id": "R7ORQfrFL9qW",
        "colab_type": "text"
      },
      "source": [
        "In this study, we analyzed the characteristics of neighborhoods in Zurich based on venue data from Foursquare. We identified the numbers of restaurants, cafés, arts and entertainment venues, tram and bus stops, bar and clubs, markets, and offices as features for neighborhoods. We split the 34 neighborhoods into 5 groups based on a cluster analysis. Neighborhoods within one group share common characteristics. We discussed how tourists, residences and city administrators can potentially benefit from the results of this analyses. We acknowledged the limitations of this study and proposed areas of improvements. For example, we can replace Foursquare data with Google Map data; include population or area size data to calculate venue density; and extend the study from 34 administrative neighborhoods to a larger number of smaller blocks. "
      ]
    }
  ]
}